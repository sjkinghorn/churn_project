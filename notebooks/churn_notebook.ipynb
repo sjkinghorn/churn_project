{
 "cells": [
  {
   "cell_type": "markdown",
   "id": "8a19ef25",
   "metadata": {},
   "source": [
    "# Customer Churn"
   ]
  },
  {
   "cell_type": "markdown",
   "id": "b073e6b6",
   "metadata": {},
   "source": [
    "This is a short demonstration on how to create and use a custom Weibull survival neural network model to predict customer churn. I use a similar example in my master's thesis on parametric survival neural networks. This is a survival analysis because we are interested in the time in months until a customer no longer uses the services of a business."
   ]
  },
  {
   "cell_type": "markdown",
   "id": "494a8109",
   "metadata": {},
   "source": [
    "## Background"
   ]
  },
  {
   "cell_type": "markdown",
   "id": "bd0036c1",
   "metadata": {},
   "source": [
    "Prior literature merges the Cox proportional hazards model with neural networks by replacing the risk function with the output of a neural network. The idea is that the neural network will learn any complex relationships (non-linearities and interaction terms) between the response and features. This can be extended to parametric models, which I demonstrate with the Weibull model. The Weibull survival and hazard function are"
   ]
  },
  {
   "cell_type": "markdown",
   "id": "6fde323f",
   "metadata": {},
   "source": [
    "\\begin{equation}\n",
    "S(t) = \\exp(-\\lambda t^p) \\text{ and } h(t) = \\lambda p t^{p-1}.\n",
    "\\end{equation}"
   ]
  },
  {
   "cell_type": "markdown",
   "id": "6f1d97cd",
   "metadata": {},
   "source": [
    "Traditionally, the Weibull survival model is expressed as a proportional hazards model through the reparameterization of $\\lambda$ as $\\exp[r(X, \\beta)]$, where $r(X, \\beta)$ is typically assumed to be a linear risk function, i.e. $X'\\beta$. In the neural network model, the risk function, $r(X, \\beta)$, will be replaced by the output of the neural network, $g(X,\\theta)$, where $\\theta$ is the vector of inputs, weights, biases, and shape parameter, $p$, of the neural network. Instead of maximizing the log-likelihood function to estimate the parameters, we will minimize the negative log-likelihood as the loss function to update the parameters. The likelihood is"
   ]
  },
  {
   "cell_type": "markdown",
   "id": "00312f0e",
   "metadata": {},
   "source": [
    "\\begin{equation}\n",
    "L(\\theta) = \\prod_{i=1}^{N} f(T_i,x_i)^{\\delta_i}S(T_i,x_i)^{1-\\delta_i} = \\prod_{i=1}^{N} \\left(\\exp[g(X, \\theta)] p t^{p-1} \\exp(-\\exp[g(X, \\theta)] t^p)\\right)^{\\delta_i} \\left(\\exp(-\\exp[g(X, \\theta)] t^p)\\right)^{1-\\delta_i}.\n",
    "\\end{equation}"
   ]
  },
  {
   "cell_type": "markdown",
   "id": "15b0f6a3",
   "metadata": {},
   "source": [
    "## Import Modules and Load Data"
   ]
  },
  {
   "cell_type": "code",
   "execution_count": 17,
   "id": "92aa013c",
   "metadata": {},
   "outputs": [],
   "source": [
    "# import modules\n",
    "import torch\n",
    "import torch.nn as nn\n",
    "import pandas as pd\n",
    "import numpy as np\n",
    "from numpy import trapz\n",
    "from sklearn.model_selection import train_test_split\n",
    "from sklearn.model_selection import KFold\n",
    "from sklearn.preprocessing import StandardScaler\n",
    "from itertools import groupby\n",
    "from itertools import combinations\n",
    "from torch import linalg as LA\n",
    "import matplotlib.pyplot as plt\n",
    "%matplotlib inline"
   ]
  },
  {
   "cell_type": "code",
   "execution_count": 5,
   "id": "cf58ca91",
   "metadata": {},
   "outputs": [],
   "source": [
    "# import raw data (originally from Pysurvival)\n",
    "raw = pd.read_csv(\"..\\data\\churn.csv\")"
   ]
  },
  {
   "cell_type": "markdown",
   "id": "bb9b7569",
   "metadata": {},
   "source": [
    "## Data cleaning"
   ]
  },
  {
   "cell_type": "markdown",
   "id": "5431638e",
   "metadata": {},
   "source": [
    "I will creat one-hot-vecors for the categorical variables, check for null or duplicate values, scale the numeric variables, and split the data into training and testing sets. The \"product_data_storage\" column shown below is a numeric column with a greater scale than the other numeric variables. To put all of them on the same scale I standardize based on the training mean and standard deviation."
   ]
  },
  {
   "cell_type": "code",
   "execution_count": 6,
   "id": "b6c34968",
   "metadata": {},
   "outputs": [
    {
     "data": {
      "text/html": [
       "<div>\n",
       "<style scoped>\n",
       "    .dataframe tbody tr th:only-of-type {\n",
       "        vertical-align: middle;\n",
       "    }\n",
       "\n",
       "    .dataframe tbody tr th {\n",
       "        vertical-align: top;\n",
       "    }\n",
       "\n",
       "    .dataframe thead th {\n",
       "        text-align: right;\n",
       "    }\n",
       "</style>\n",
       "<table border=\"1\" class=\"dataframe\">\n",
       "  <thead>\n",
       "    <tr style=\"text-align: right;\">\n",
       "      <th></th>\n",
       "      <th>product_data_storage</th>\n",
       "      <th>product_travel_expense</th>\n",
       "      <th>product_payroll</th>\n",
       "      <th>product_accounting</th>\n",
       "      <th>csat_score</th>\n",
       "      <th>articles_viewed</th>\n",
       "      <th>smartphone_notifications_viewed</th>\n",
       "      <th>marketing_emails_clicked</th>\n",
       "      <th>social_media_ads_viewed</th>\n",
       "      <th>minutes_customer_support</th>\n",
       "      <th>company_size</th>\n",
       "      <th>us_region</th>\n",
       "      <th>months_active</th>\n",
       "      <th>churned</th>\n",
       "    </tr>\n",
       "  </thead>\n",
       "  <tbody>\n",
       "    <tr>\n",
       "      <th>0</th>\n",
       "      <td>2048</td>\n",
       "      <td>Free-Trial</td>\n",
       "      <td>Active</td>\n",
       "      <td>No</td>\n",
       "      <td>9</td>\n",
       "      <td>4</td>\n",
       "      <td>0</td>\n",
       "      <td>14</td>\n",
       "      <td>1</td>\n",
       "      <td>8.3</td>\n",
       "      <td>10-50</td>\n",
       "      <td>West North Central</td>\n",
       "      <td>3.0</td>\n",
       "      <td>1.0</td>\n",
       "    </tr>\n",
       "    <tr>\n",
       "      <th>1</th>\n",
       "      <td>2048</td>\n",
       "      <td>Free-Trial</td>\n",
       "      <td>Free-Trial</td>\n",
       "      <td>Active</td>\n",
       "      <td>9</td>\n",
       "      <td>4</td>\n",
       "      <td>2</td>\n",
       "      <td>12</td>\n",
       "      <td>1</td>\n",
       "      <td>0.0</td>\n",
       "      <td>100-250</td>\n",
       "      <td>South Atlantic</td>\n",
       "      <td>2.0</td>\n",
       "      <td>1.0</td>\n",
       "    </tr>\n",
       "    <tr>\n",
       "      <th>2</th>\n",
       "      <td>2048</td>\n",
       "      <td>Active</td>\n",
       "      <td>Active</td>\n",
       "      <td>Active</td>\n",
       "      <td>9</td>\n",
       "      <td>3</td>\n",
       "      <td>2</td>\n",
       "      <td>17</td>\n",
       "      <td>1</td>\n",
       "      <td>0.0</td>\n",
       "      <td>100-250</td>\n",
       "      <td>East South Central</td>\n",
       "      <td>7.0</td>\n",
       "      <td>0.0</td>\n",
       "    </tr>\n",
       "  </tbody>\n",
       "</table>\n",
       "</div>"
      ],
      "text/plain": [
       "   product_data_storage product_travel_expense product_payroll  \\\n",
       "0                  2048             Free-Trial          Active   \n",
       "1                  2048             Free-Trial      Free-Trial   \n",
       "2                  2048                 Active          Active   \n",
       "\n",
       "  product_accounting  csat_score  articles_viewed  \\\n",
       "0                 No           9                4   \n",
       "1             Active           9                4   \n",
       "2             Active           9                3   \n",
       "\n",
       "   smartphone_notifications_viewed  marketing_emails_clicked  \\\n",
       "0                                0                        14   \n",
       "1                                2                        12   \n",
       "2                                2                        17   \n",
       "\n",
       "   social_media_ads_viewed  minutes_customer_support company_size  \\\n",
       "0                        1                       8.3        10-50   \n",
       "1                        1                       0.0      100-250   \n",
       "2                        1                       0.0      100-250   \n",
       "\n",
       "            us_region  months_active  churned  \n",
       "0  West North Central            3.0      1.0  \n",
       "1      South Atlantic            2.0      1.0  \n",
       "2  East South Central            7.0      0.0  "
      ]
     },
     "execution_count": 6,
     "metadata": {},
     "output_type": "execute_result"
    }
   ],
   "source": [
    "# display data\n",
    "raw.head(3)"
   ]
  },
  {
   "cell_type": "code",
   "execution_count": 7,
   "id": "4a0e0650",
   "metadata": {},
   "outputs": [],
   "source": [
    "# creating one-hot vectors\n",
    "categories = ['product_travel_expense', 'product_payroll', 'product_accounting',\n",
    "              'us_region', 'company_size']\n",
    "dataset = pd.get_dummies(raw, columns=categories, drop_first=True)\n",
    "\n",
    "# creating the time and event columns\n",
    "time_column = 'months_active'\n",
    "event_column = 'churned'\n",
    "\n",
    "# extracting the features\n",
    "features = np.setdiff1d(dataset.columns, [time_column, event_column] ).tolist()"
   ]
  },
  {
   "cell_type": "code",
   "execution_count": 8,
   "id": "da52c3c2",
   "metadata": {},
   "outputs": [
    {
     "name": "stdout",
     "output_type": "stream",
     "text": [
      "The raw_dataset contains 0 null values\n",
      "The raw_dataset contains 0 duplicates\n"
     ]
    }
   ],
   "source": [
    "# checking for null values\n",
    "N_null = sum(dataset[features].isnull().sum())\n",
    "print(\"The raw_dataset contains {} null values\".format(N_null))\n",
    "\n",
    "# removing duplicates if there exist\n",
    "N_dupli = sum(dataset.duplicated(keep='first'))\n",
    "dataset = dataset.drop_duplicates(keep='first').reset_index(drop=True)\n",
    "print(\"The raw_dataset contains {} duplicates\".format(N_dupli))\n",
    "\n",
    "# number of samples in the dataset\n",
    "N = dataset.shape[0]"
   ]
  },
  {
   "cell_type": "code",
   "execution_count": 9,
   "id": "ca3e87ab",
   "metadata": {},
   "outputs": [],
   "source": [
    "# building training and testing sets\n",
    "index_train, index_test = train_test_split( range(N), test_size = 0.3, random_state=2)\n",
    "data_train = dataset.loc[index_train].reset_index( drop = True )\n",
    "data_test  = dataset.loc[index_test].reset_index( drop = True )\n",
    "\n",
    "# standardize\n",
    "conts = ['product_data_storage', 'csat_score', 'articles_viewed',\n",
    "       'smartphone_notifications_viewed', 'marketing_emails_clicked',\n",
    "       'social_media_ads_viewed', 'minutes_customer_support']\n",
    "for col in conts:\n",
    "  scaler = StandardScaler()\n",
    "  data_train[col] = scaler.fit_transform(data_train[col].values.reshape(-1,1))\n",
    "  data_test[col] = scaler.transform(data_test[col].values.reshape(-1,1))"
   ]
  },
  {
   "cell_type": "markdown",
   "id": "998f5660",
   "metadata": {},
   "source": [
    "## Neural Network Model"
   ]
  },
  {
   "cell_type": "markdown",
   "id": "1094b27f",
   "metadata": {},
   "source": [
    "I will use pytorch to fit a Weibull neural network model. "
   ]
  },
  {
   "cell_type": "code",
   "execution_count": 10,
   "id": "d2cab3a3",
   "metadata": {},
   "outputs": [],
   "source": [
    "X = ['product_data_storage', 'csat_score', 'articles_viewed',\n",
    "       'smartphone_notifications_viewed', 'marketing_emails_clicked',\n",
    "       'social_media_ads_viewed', 'minutes_customer_support',\n",
    "       'product_travel_expense_Free-Trial',\n",
    "       'product_travel_expense_No', 'product_payroll_Free-Trial',\n",
    "       'product_payroll_No', 'product_accounting_Free-Trial',\n",
    "       'product_accounting_No', 'us_region_East South Central',\n",
    "       'us_region_Middle Atlantic', 'us_region_Mountain',\n",
    "       'us_region_New England', 'us_region_Pacific',\n",
    "       'us_region_South Atlantic', 'us_region_West North Central',\n",
    "       'us_region_West South Central', 'company_size_10-50',\n",
    "       'company_size_100-250', 'company_size_50-100',\n",
    "       'company_size_self-employed']\n",
    "time = ['months_active']\n",
    "status = ['churned']"
   ]
  },
  {
   "cell_type": "code",
   "execution_count": 11,
   "id": "3332a0df",
   "metadata": {},
   "outputs": [],
   "source": [
    "# training tensors\n",
    "X_cols_train = np.stack([data_train[col].values for col in X], axis = 1)\n",
    "XTensor_train = torch.tensor(X_cols_train, dtype = torch.float)\n",
    "timeTensor_train = torch.tensor(data_train[time].values, dtype = torch.float)\n",
    "statusTensor_train = torch.tensor(data_train[status].values, dtype = torch.float)\n",
    "\n",
    "# testing tensors\n",
    "X_cols_test = np.stack([data_test[col].values for col in X], axis = 1)\n",
    "XTensor_test = torch.tensor(X_cols_test, dtype = torch.float)\n",
    "timeTensor_test = torch.tensor(data_test[time].values, dtype = torch.float)\n",
    "statusTensor_test = torch.tensor(data_test[status].values, dtype = torch.float)"
   ]
  },
  {
   "cell_type": "code",
   "execution_count": 12,
   "id": "47f3cda2",
   "metadata": {},
   "outputs": [],
   "source": [
    "# neural network class\n",
    "\n",
    "class WeibullNNModel(nn.Module):\n",
    "\n",
    "    def __init__(self, input_size):\n",
    "        super().__init__()\n",
    "        self.input_size = input_size\n",
    "        self.sequential = nn.Sequential(\n",
    "            nn.Linear(self.input_size, 25),\n",
    "            nn.ReLU(),\n",
    "            nn.Linear(25, 5),\n",
    "            nn.ReLU(),\n",
    "            nn.Linear(5, 1)\n",
    "        )\n",
    "        self.parallel = nn.Sequential(\n",
    "            nn.Linear(1, 1),\n",
    "            nn.Softplus(),\n",
    "        )\n",
    "    \n",
    "    def forward(self, x):\n",
    "        x = self.sequential(x)\n",
    "        p = self.parallel(torch.ones(x.shape))\n",
    "        return torch.cat((x, p), 1)"
   ]
  },
  {
   "cell_type": "code",
   "execution_count": 13,
   "id": "7f607a67",
   "metadata": {},
   "outputs": [],
   "source": [
    "# define weibull log likelihood\n",
    "\n",
    "def weibullLogL(output, p, fail_status, time, model_parameters, penalty_lambda=0):\n",
    "    '''\n",
    "    output = output from model (tensor)\n",
    "    p = shape parameter of weibull \n",
    "    fail_status = 1 if event, 0 if censor (tensor)\n",
    "    time = event time in ascending order (tensor)\n",
    "    penalty_lambda = weight of penalty\n",
    "    '''\n",
    "    lamb = torch.exp(output)\n",
    "    value_list = []\n",
    "    for index, value in enumerate(fail_status):\n",
    "      if value == 1:\n",
    "        event = torch.log(lamb[index])+torch.log(p[index])+((p[index]-1)*torch.log(time[index]))-(lamb[index]*torch.pow(time[index], p[index]))\n",
    "        value_list.append(event)\n",
    "      else:\n",
    "        censor = -1*lamb[index]*torch.pow(time[index], p[index])\n",
    "        value_list.append(censor)\n",
    "    value_list = torch.stack(value_list)\n",
    "    #n = len(fail_status)\n",
    "    L = -1*torch.sum(value_list)\n",
    "    # penalty\n",
    "    param_tensor = torch.nn.utils.parameters_to_vector(model_parameters)\n",
    "    param_tensor =  torch.matmul(param_tensor,param_tensor)\n",
    "    penalty = penalty_lambda*param_tensor\n",
    "    L = L + penalty\n",
    "    return L"
   ]
  },
  {
   "cell_type": "code",
   "execution_count": 14,
   "id": "54bec86e",
   "metadata": {},
   "outputs": [],
   "source": [
    "# instance\n",
    "torch.manual_seed(3)\n",
    "model = WeibullNNModel(len(X))\n",
    "\n",
    "# define optimizer\n",
    "optimizer = torch.optim.Adam(model.parameters(), lr=0.01)"
   ]
  },
  {
   "cell_type": "code",
   "execution_count": 15,
   "id": "72495160",
   "metadata": {},
   "outputs": [
    {
     "name": "stdout",
     "output_type": "stream",
     "text": [
      "epoch:   1  loss: 2888.86499023\n",
      "epoch:  26  loss: 2071.54980469\n",
      "epoch:  51  loss: 1704.60522461\n",
      "epoch:  76  loss: 1463.63000488\n",
      "epoch: 101  loss: 1309.77551270\n",
      "epoch: 126  loss: 1203.57934570\n",
      "epoch: 151  loss: 1127.44885254\n",
      "epoch: 176  loss: 1070.80468750\n",
      "epoch: 200  loss: 1027.31738281\n"
     ]
    }
   ],
   "source": [
    "# train network\n",
    "\n",
    "epochs = 200\n",
    "losses = []\n",
    "\n",
    "for i in range(epochs):\n",
    "    i+=1\n",
    "    y_pred = model(XTensor_train)\n",
    "    loss = weibullLogL(output = y_pred[:, 0], p = y_pred[:, 1], \n",
    "                       fail_status = statusTensor_train, time = timeTensor_train,\n",
    "                       model_parameters=model.parameters(), penalty_lambda=1)\n",
    "    losses.append(loss)\n",
    "    \n",
    "    if i%25 == 1:\n",
    "        print(f'epoch: {i:3}  loss: {loss.item():10.8f}')\n",
    "\n",
    "    optimizer.zero_grad()\n",
    "    loss.backward()\n",
    "    optimizer.step()\n",
    "\n",
    "print(f'epoch: {i:3}  loss: {loss.item():10.8f}')"
   ]
  },
  {
   "cell_type": "code",
   "execution_count": 18,
   "id": "40aa5fa6",
   "metadata": {},
   "outputs": [
    {
     "data": {
      "image/png": "[encoded data removed]",
      "text/plain": [
       "<Figure size 640x480 with 1 Axes>"
      ]
     },
     "metadata": {},
     "output_type": "display_data"
    }
   ],
   "source": [
    "los = [fl.item() for fl in losses ]\n",
    "plt.plot(range(epochs), los)\n",
    "plt.ylabel('L Loss')\n",
    "plt.xlabel('epoch');"
   ]
  },
  {
   "cell_type": "markdown",
   "id": "3873a508",
   "metadata": {},
   "source": [
    "## Evaluation Metrics"
   ]
  },
  {
   "cell_type": "markdown",
   "id": "b1abd635",
   "metadata": {},
   "source": [
    "### Concordance Index"
   ]
  },
  {
   "cell_type": "code",
   "execution_count": 19,
   "id": "2fde74df",
   "metadata": {},
   "outputs": [],
   "source": [
    "def concordance_index(risk, time, event_status):\n",
    "  '''\n",
    "  risk = individual risk for event, output from model\n",
    "  time = time to event or censor ordered\n",
    "  event_status = 1 if event, 0 if censor\n",
    "  '''\n",
    "  numerator = 0\n",
    "  denominator = 0\n",
    "  for j,i in combinations(range(len(time)), 2):\n",
    "    if time[j] < time[i] and risk[j] > risk[i]:\n",
    "      numerator += 1*int(event_status[j])\n",
    "    if time[j] < time[i]:\n",
    "      denominator += 1*int(event_status[j])\n",
    "  c = numerator/denominator\n",
    "  return c"
   ]
  },
  {
   "cell_type": "code",
   "execution_count": 20,
   "id": "78b806cb",
   "metadata": {},
   "outputs": [
    {
     "data": {
      "text/plain": [
       "0.8628643510384286"
      ]
     },
     "execution_count": 20,
     "metadata": {},
     "output_type": "execute_result"
    }
   ],
   "source": [
    "y_val = model(XTensor_test)\n",
    "concordance_index(risk = y_val[:, 0], time = timeTensor_test, event_status = statusTensor_test)"
   ]
  }
 ],
 "metadata": {
  "kernelspec": {
   "display_name": "Python 3 (ipykernel)",
   "language": "python",
   "name": "python3"
  },
  "language_info": {
   "codemirror_mode": {
    "name": "ipython",
    "version": 3
   },
   "file_extension": ".py",
   "mimetype": "text/x-python",
   "name": "python",
   "nbconvert_exporter": "python",
   "pygments_lexer": "ipython3",
   "version": "3.10.9"
  }
 },
 "nbformat": 4,
 "nbformat_minor": 5
}
