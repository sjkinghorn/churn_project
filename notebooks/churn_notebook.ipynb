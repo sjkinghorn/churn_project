{
 "cells": [
  {
   "cell_type": "markdown",
   "id": "8a19ef25",
   "metadata": {},
   "source": [
    "# Customer Churn"
   ]
  },
  {
   "cell_type": "markdown",
   "id": "b073e6b6",
   "metadata": {},
   "source": [
    "This is a short demonstration on how to create and use a custom Weibull survival neural network model to predict customer churn. I use a similar example in my master's thesis on parametric survival neural networks. This is a survival analysis because we are interested in the time in months until a customer no longer uses the services of a business."
   ]
  },
  {
   "cell_type": "markdown",
   "id": "494a8109",
   "metadata": {},
   "source": [
    "## Background"
   ]
  },
  {
   "cell_type": "markdown",
   "id": "6f1d97cd",
   "metadata": {},
   "source": [
    "Prior literature merges the Cox proportional hazards model with neural networks by replacing the risk function with the output of a neural network. The idea is that the neural network will learn complex relationships (non-linearities and interaction terms) between the response and features better than a traditional model. This can be extended to parametric models, which I demonstrate with the Weibull model. The Weibull hazard function, survival function, and pdf are\n",
    "\n",
    "\\begin{equation}\n",
    "\\begin{aligned}\n",
    "h(t) &= \\lambda p t^{p-1}, \\\\ S(t) &= \\exp(-\\lambda t^p), \\\\ f(t) &= h(t)S(t) = \\lambda p t^{p-1} \\exp(-\\lambda t^p).\n",
    "\\end{aligned}\n",
    "\\end{equation}\n",
    "\n",
    "Traditionally, the Weibull survival model is expressed as a proportional hazards model through the reparameterization of $\\lambda$ as $\\exp[r(X, \\beta)]$, where $r(X, \\beta)$ is typically assumed to be a linear risk function, i.e. $X'\\beta$. In the neural network model, the risk function, $r(X, \\beta)$, will be replaced by the output of the neural network, $g(X,\\theta)$, where $\\theta$ is the vector of inputs, weights, biases, and shape parameter, $p$, of the neural network. The parameters of the model ($p,\\beta_0, \\beta_1,...$) are estimated by maximizing the parametric likelihood which is the product of each individual's contribution to the likelihood. The likelihood is\n",
    "\n",
    "\\begin{equation*}\n",
    "L(\\theta) = \\prod_{i=1}^{N} f(T_i,x_i)^{\\delta_i}S(T_i,x_i)^{1-\\delta_i}\n",
    "\\end{equation*}\n",
    "\n",
    "where $t_i$ is event time, $x_i$ is the individual vector of covariates, and $\\delta_i$ is the event indicator.\n",
    "\n",
    "The likelihood for the Weibull neural network model is\n",
    "\n",
    "\\begin{equation*}\n",
    "L(\\theta) = \\prod_{i=1}^{N} \\left(\\exp[g(x_i, \\theta)] p t_i^{p-1} \\exp(-\\exp[g(x_i, \\theta)] t_i^p)\\right)^{\\delta_i} \\left(\\exp(-\\exp[g(x_i, \\theta)] t_i^p)\\right)^{1-\\delta_i}\n",
    "\\end{equation*}\n",
    "\n",
    "where $g(x_i, \\theta)$ is the output of the neural network.\n",
    "\n",
    "Instead of maximizing the log-likelihood function to estimate the parameters, we will minimize the negative log-likelihood as the loss function to update the parameters."
   ]
  },
  {
   "cell_type": "markdown",
   "id": "15b0f6a3",
   "metadata": {},
   "source": [
    "## Import Modules and Load Data"
   ]
  },
  {
   "cell_type": "markdown",
   "id": "70c1d539",
   "metadata": {},
   "source": [
    "The data is imported from Pysurvival. I don't directly import the data from the Pysurvival model because I cannot install Pysurvival on Windows."
   ]
  },
  {
   "cell_type": "code",
   "execution_count": 73,
   "id": "92aa013c",
   "metadata": {},
   "outputs": [],
   "source": [
    "# import modules\n",
    "import torch\n",
    "import torch.nn as nn\n",
    "import pandas as pd\n",
    "import numpy as np\n",
    "from numpy import trapz\n",
    "from sklearn.model_selection import train_test_split\n",
    "from sklearn.model_selection import KFold\n",
    "from sklearn.preprocessing import StandardScaler\n",
    "from itertools import groupby\n",
    "from itertools import combinations\n",
    "from torch import linalg as LA\n",
    "import seaborn as sns\n",
    "import matplotlib.pyplot as plt\n",
    "%matplotlib inline"
   ]
  },
  {
   "cell_type": "code",
   "execution_count": 17,
   "id": "cf58ca91",
   "metadata": {},
   "outputs": [],
   "source": [
    "# import raw data (originally from Pysurvival)\n",
    "raw = pd.read_csv(\"..\\data\\churn.csv\")"
   ]
  },
  {
   "cell_type": "markdown",
   "id": "bb9b7569",
   "metadata": {},
   "source": [
    "## Data cleaning"
   ]
  },
  {
   "cell_type": "markdown",
   "id": "5431638e",
   "metadata": {},
   "source": [
    "I will creat one-hot-vecors for the categorical variables, check for null or duplicate values, scale the numeric variables, and split the data into training and testing sets. The \"product_data_storage\" column shown below is a numeric column with a greater scale than the other numeric variables. To put all of them on the same scale I standardize based on the training mean and standard deviation."
   ]
  },
  {
   "cell_type": "code",
   "execution_count": 18,
   "id": "b6c34968",
   "metadata": {},
   "outputs": [
    {
     "data": {
      "text/html": [
       "<div>\n",
       "<style scoped>\n",
       "    .dataframe tbody tr th:only-of-type {\n",
       "        vertical-align: middle;\n",
       "    }\n",
       "\n",
       "    .dataframe tbody tr th {\n",
       "        vertical-align: top;\n",
       "    }\n",
       "\n",
       "    .dataframe thead th {\n",
       "        text-align: right;\n",
       "    }\n",
       "</style>\n",
       "<table border=\"1\" class=\"dataframe\">\n",
       "  <thead>\n",
       "    <tr style=\"text-align: right;\">\n",
       "      <th></th>\n",
       "      <th>product_data_storage</th>\n",
       "      <th>product_travel_expense</th>\n",
       "      <th>product_payroll</th>\n",
       "      <th>product_accounting</th>\n",
       "      <th>csat_score</th>\n",
       "      <th>articles_viewed</th>\n",
       "      <th>smartphone_notifications_viewed</th>\n",
       "      <th>marketing_emails_clicked</th>\n",
       "      <th>social_media_ads_viewed</th>\n",
       "      <th>minutes_customer_support</th>\n",
       "      <th>company_size</th>\n",
       "      <th>us_region</th>\n",
       "      <th>months_active</th>\n",
       "      <th>churned</th>\n",
       "    </tr>\n",
       "  </thead>\n",
       "  <tbody>\n",
       "    <tr>\n",
       "      <th>0</th>\n",
       "      <td>2048</td>\n",
       "      <td>Free-Trial</td>\n",
       "      <td>Active</td>\n",
       "      <td>No</td>\n",
       "      <td>9</td>\n",
       "      <td>4</td>\n",
       "      <td>0</td>\n",
       "      <td>14</td>\n",
       "      <td>1</td>\n",
       "      <td>8.3</td>\n",
       "      <td>10-50</td>\n",
       "      <td>West North Central</td>\n",
       "      <td>3.0</td>\n",
       "      <td>1.0</td>\n",
       "    </tr>\n",
       "    <tr>\n",
       "      <th>1</th>\n",
       "      <td>2048</td>\n",
       "      <td>Free-Trial</td>\n",
       "      <td>Free-Trial</td>\n",
       "      <td>Active</td>\n",
       "      <td>9</td>\n",
       "      <td>4</td>\n",
       "      <td>2</td>\n",
       "      <td>12</td>\n",
       "      <td>1</td>\n",
       "      <td>0.0</td>\n",
       "      <td>100-250</td>\n",
       "      <td>South Atlantic</td>\n",
       "      <td>2.0</td>\n",
       "      <td>1.0</td>\n",
       "    </tr>\n",
       "    <tr>\n",
       "      <th>2</th>\n",
       "      <td>2048</td>\n",
       "      <td>Active</td>\n",
       "      <td>Active</td>\n",
       "      <td>Active</td>\n",
       "      <td>9</td>\n",
       "      <td>3</td>\n",
       "      <td>2</td>\n",
       "      <td>17</td>\n",
       "      <td>1</td>\n",
       "      <td>0.0</td>\n",
       "      <td>100-250</td>\n",
       "      <td>East South Central</td>\n",
       "      <td>7.0</td>\n",
       "      <td>0.0</td>\n",
       "    </tr>\n",
       "  </tbody>\n",
       "</table>\n",
       "</div>"
      ],
      "text/plain": [
       "   product_data_storage product_travel_expense product_payroll  \\\n",
       "0                  2048             Free-Trial          Active   \n",
       "1                  2048             Free-Trial      Free-Trial   \n",
       "2                  2048                 Active          Active   \n",
       "\n",
       "  product_accounting  csat_score  articles_viewed  \\\n",
       "0                 No           9                4   \n",
       "1             Active           9                4   \n",
       "2             Active           9                3   \n",
       "\n",
       "   smartphone_notifications_viewed  marketing_emails_clicked  \\\n",
       "0                                0                        14   \n",
       "1                                2                        12   \n",
       "2                                2                        17   \n",
       "\n",
       "   social_media_ads_viewed  minutes_customer_support company_size  \\\n",
       "0                        1                       8.3        10-50   \n",
       "1                        1                       0.0      100-250   \n",
       "2                        1                       0.0      100-250   \n",
       "\n",
       "            us_region  months_active  churned  \n",
       "0  West North Central            3.0      1.0  \n",
       "1      South Atlantic            2.0      1.0  \n",
       "2  East South Central            7.0      0.0  "
      ]
     },
     "execution_count": 18,
     "metadata": {},
     "output_type": "execute_result"
    }
   ],
   "source": [
    "# display data\n",
    "raw.head(3)"
   ]
  },
  {
   "cell_type": "code",
   "execution_count": 19,
   "id": "4a0e0650",
   "metadata": {},
   "outputs": [],
   "source": [
    "# creating one-hot vectors\n",
    "categories = ['product_travel_expense', 'product_payroll', 'product_accounting',\n",
    "              'us_region', 'company_size']\n",
    "dataset = pd.get_dummies(raw, columns=categories, drop_first=True)\n",
    "\n",
    "# creating the time and event columns\n",
    "time_column = 'months_active'\n",
    "event_column = 'churned'\n",
    "\n",
    "# extracting the features\n",
    "features = np.setdiff1d(dataset.columns, [time_column, event_column] ).tolist()"
   ]
  },
  {
   "cell_type": "code",
   "execution_count": 20,
   "id": "da52c3c2",
   "metadata": {},
   "outputs": [
    {
     "name": "stdout",
     "output_type": "stream",
     "text": [
      "The raw_dataset contains 0 null values\n",
      "The raw_dataset contains 0 duplicates\n"
     ]
    }
   ],
   "source": [
    "# checking for null values\n",
    "N_null = sum(dataset[features].isnull().sum())\n",
    "print(\"The raw_dataset contains {} null values\".format(N_null))\n",
    "\n",
    "# removing duplicates if there exist\n",
    "N_dupli = sum(dataset.duplicated(keep='first'))\n",
    "dataset = dataset.drop_duplicates(keep='first').reset_index(drop=True)\n",
    "print(\"The raw_dataset contains {} duplicates\".format(N_dupli))\n",
    "\n",
    "# number of samples in the dataset\n",
    "N = dataset.shape[0]"
   ]
  },
  {
   "cell_type": "code",
   "execution_count": 21,
   "id": "ca3e87ab",
   "metadata": {},
   "outputs": [],
   "source": [
    "# building training and testing sets\n",
    "index_train, index_test = train_test_split( range(N), test_size = 0.3, random_state=2)\n",
    "data_train = dataset.loc[index_train].reset_index( drop = True )\n",
    "data_test  = dataset.loc[index_test].reset_index( drop = True )\n",
    "\n",
    "# standardize\n",
    "conts = ['product_data_storage', 'csat_score', 'articles_viewed',\n",
    "       'smartphone_notifications_viewed', 'marketing_emails_clicked',\n",
    "       'social_media_ads_viewed', 'minutes_customer_support']\n",
    "for col in conts:\n",
    "  scaler = StandardScaler()\n",
    "  data_train[col] = scaler.fit_transform(data_train[col].values.reshape(-1,1))\n",
    "  data_test[col] = scaler.transform(data_test[col].values.reshape(-1,1))"
   ]
  },
  {
   "cell_type": "markdown",
   "id": "998f5660",
   "metadata": {},
   "source": [
    "## Neural Network Model"
   ]
  },
  {
   "cell_type": "markdown",
   "id": "1094b27f",
   "metadata": {},
   "source": [
    "I will use pytorch to fit a Weibull neural network model. "
   ]
  },
  {
   "cell_type": "code",
   "execution_count": 22,
   "id": "d2cab3a3",
   "metadata": {},
   "outputs": [],
   "source": [
    "X = ['product_data_storage', 'csat_score', 'articles_viewed',\n",
    "       'smartphone_notifications_viewed', 'marketing_emails_clicked',\n",
    "       'social_media_ads_viewed', 'minutes_customer_support',\n",
    "       'product_travel_expense_Free-Trial',\n",
    "       'product_travel_expense_No', 'product_payroll_Free-Trial',\n",
    "       'product_payroll_No', 'product_accounting_Free-Trial',\n",
    "       'product_accounting_No', 'us_region_East South Central',\n",
    "       'us_region_Middle Atlantic', 'us_region_Mountain',\n",
    "       'us_region_New England', 'us_region_Pacific',\n",
    "       'us_region_South Atlantic', 'us_region_West North Central',\n",
    "       'us_region_West South Central', 'company_size_10-50',\n",
    "       'company_size_100-250', 'company_size_50-100',\n",
    "       'company_size_self-employed']\n",
    "time = ['months_active']\n",
    "status = ['churned']"
   ]
  },
  {
   "cell_type": "code",
   "execution_count": 23,
   "id": "3332a0df",
   "metadata": {},
   "outputs": [],
   "source": [
    "# training tensors\n",
    "X_cols_train = np.stack([data_train[col].values for col in X], axis = 1)\n",
    "XTensor_train = torch.tensor(X_cols_train, dtype = torch.float)\n",
    "timeTensor_train = torch.tensor(data_train[time].values, dtype = torch.float)\n",
    "statusTensor_train = torch.tensor(data_train[status].values, dtype = torch.float)\n",
    "\n",
    "# testing tensors\n",
    "X_cols_test = np.stack([data_test[col].values for col in X], axis = 1)\n",
    "XTensor_test = torch.tensor(X_cols_test, dtype = torch.float)\n",
    "timeTensor_test = torch.tensor(data_test[time].values, dtype = torch.float)\n",
    "statusTensor_test = torch.tensor(data_test[status].values, dtype = torch.float)"
   ]
  },
  {
   "cell_type": "code",
   "execution_count": 24,
   "id": "47f3cda2",
   "metadata": {},
   "outputs": [],
   "source": [
    "# neural network class\n",
    "\n",
    "class WeibullNNModel(nn.Module):\n",
    "\n",
    "    def __init__(self, input_size):\n",
    "        super().__init__()\n",
    "        self.input_size = input_size\n",
    "        self.sequential = nn.Sequential(\n",
    "            nn.Linear(self.input_size, 25),\n",
    "            nn.ReLU(),\n",
    "            nn.Linear(25, 5),\n",
    "            nn.ReLU(),\n",
    "            nn.Linear(5, 1)\n",
    "        )\n",
    "        self.parallel = nn.Sequential(\n",
    "            nn.Linear(1, 1),\n",
    "            nn.Softplus(),\n",
    "        )\n",
    "    \n",
    "    def forward(self, x):\n",
    "        x = self.sequential(x)\n",
    "        p = self.parallel(torch.ones(x.shape))\n",
    "        return torch.cat((x, p), 1)"
   ]
  },
  {
   "cell_type": "code",
   "execution_count": 25,
   "id": "7f607a67",
   "metadata": {},
   "outputs": [],
   "source": [
    "# define weibull log likelihood\n",
    "\n",
    "def weibullLogL(output, p, fail_status, time, model_parameters, penalty_lambda=0):\n",
    "    '''\n",
    "    output = output from model (tensor)\n",
    "    p = shape parameter of weibull \n",
    "    fail_status = 1 if event, 0 if censor (tensor)\n",
    "    time = event time in ascending order (tensor)\n",
    "    penalty_lambda = weight of penalty\n",
    "    '''\n",
    "    lamb = torch.exp(output)\n",
    "    value_list = []\n",
    "    for index, value in enumerate(fail_status):\n",
    "      if value == 1:\n",
    "        event = torch.log(lamb[index])+torch.log(p[index])+((p[index]-1)*torch.log(time[index]))-(lamb[index]*torch.pow(time[index], p[index]))\n",
    "        value_list.append(event)\n",
    "      else:\n",
    "        censor = -1*lamb[index]*torch.pow(time[index], p[index])\n",
    "        value_list.append(censor)\n",
    "    value_list = torch.stack(value_list)\n",
    "    #n = len(fail_status)\n",
    "    L = -1*torch.sum(value_list)\n",
    "    # penalty\n",
    "    param_tensor = torch.nn.utils.parameters_to_vector(model_parameters)\n",
    "    param_tensor =  torch.matmul(param_tensor,param_tensor)\n",
    "    penalty = penalty_lambda*param_tensor\n",
    "    L = L + penalty\n",
    "    return L"
   ]
  },
  {
   "cell_type": "code",
   "execution_count": 26,
   "id": "54bec86e",
   "metadata": {},
   "outputs": [],
   "source": [
    "# instance\n",
    "torch.manual_seed(3)\n",
    "model = WeibullNNModel(len(X))\n",
    "\n",
    "# define optimizer\n",
    "optimizer = torch.optim.Adam(model.parameters(), lr=0.01)"
   ]
  },
  {
   "cell_type": "code",
   "execution_count": 27,
   "id": "72495160",
   "metadata": {},
   "outputs": [
    {
     "name": "stdout",
     "output_type": "stream",
     "text": [
      "epoch:   1  loss: 2888.86499023\n",
      "epoch:  26  loss: 2071.54980469\n",
      "epoch:  51  loss: 1704.60522461\n",
      "epoch:  76  loss: 1463.63000488\n",
      "epoch: 101  loss: 1309.77551270\n",
      "epoch: 126  loss: 1203.57934570\n",
      "epoch: 151  loss: 1127.44885254\n",
      "epoch: 176  loss: 1070.80468750\n",
      "epoch: 200  loss: 1027.31738281\n"
     ]
    }
   ],
   "source": [
    "# train network\n",
    "\n",
    "epochs = 200\n",
    "losses = []\n",
    "\n",
    "for i in range(epochs):\n",
    "    i+=1\n",
    "    risk = model(XTensor_train)\n",
    "    loss = weibullLogL(output = risk[:, 0], p = risk[:, 1], \n",
    "                       fail_status = statusTensor_train, time = timeTensor_train,\n",
    "                       model_parameters=model.parameters(), penalty_lambda=1)\n",
    "    losses.append(loss)\n",
    "    \n",
    "    if i%25 == 1:\n",
    "        print(f'epoch: {i:3}  loss: {loss.item():10.8f}')\n",
    "\n",
    "    optimizer.zero_grad()\n",
    "    loss.backward()\n",
    "    optimizer.step()\n",
    "\n",
    "print(f'epoch: {i:3}  loss: {loss.item():10.8f}')"
   ]
  },
  {
   "cell_type": "code",
   "execution_count": 28,
   "id": "40aa5fa6",
   "metadata": {},
   "outputs": [
    {
     "data": {
      "image/png": "[encoded data removed]",
      "text/plain": [
       "<Figure size 640x480 with 1 Axes>"
      ]
     },
     "metadata": {},
     "output_type": "display_data"
    }
   ],
   "source": [
    "los = [fl.item() for fl in losses ]\n",
    "plt.plot(range(epochs), los)\n",
    "plt.ylabel('L Loss')\n",
    "plt.xlabel('epoch');"
   ]
  },
  {
   "cell_type": "markdown",
   "id": "3873a508",
   "metadata": {},
   "source": [
    "## Evaluation Metrics"
   ]
  },
  {
   "cell_type": "markdown",
   "id": "b1abd635",
   "metadata": {},
   "source": [
    "### Concordance Index"
   ]
  },
  {
   "cell_type": "markdown",
   "id": "686c3d1d",
   "metadata": {},
   "source": [
    "The concordance index is a metric for evaluating the discriminative ability of survival models. This method uses survival times and predicted risk to evaluate the comparative survival prospects for each pair of observations, while taking into account censoring. All combinations of individuals are compared and a pair is deemed concordant if the model predicts a higher risk for the individual that has a shorter event time. If the model predicts a higher risk for the individual that has a longer event time, the pair is discordant. The condcordance index is the ratio of concordant pairs and all pairs. In the case of right censoring, the pair is not counted if the individual with the shorter survival time is censored. A concordance score of 1 is the best possible score and a score of 0.5 is equivalent to random guessing. "
   ]
  },
  {
   "cell_type": "code",
   "execution_count": 29,
   "id": "2fde74df",
   "metadata": {},
   "outputs": [],
   "source": [
    "def concordance_index(risk, time, event_status):\n",
    "  '''\n",
    "  risk = individual risk for event, output from model\n",
    "  time = time to event or censor ordered\n",
    "  event_status = 1 if event, 0 if censor\n",
    "  '''\n",
    "  numerator = 0\n",
    "  denominator = 0\n",
    "  for j,i in combinations(range(len(time)), 2):\n",
    "    if time[j] < time[i] and risk[j] > risk[i]:\n",
    "      numerator += 1*int(event_status[j])\n",
    "    if time[j] < time[i]:\n",
    "      denominator += 1*int(event_status[j])\n",
    "  c = numerator/denominator\n",
    "  return c"
   ]
  },
  {
   "cell_type": "code",
   "execution_count": 30,
   "id": "78b806cb",
   "metadata": {},
   "outputs": [
    {
     "data": {
      "text/plain": [
       "0.8628643510384286"
      ]
     },
     "execution_count": 30,
     "metadata": {},
     "output_type": "execute_result"
    }
   ],
   "source": [
    "risk_test = model(XTensor_test)\n",
    "concordance_index(risk = risk_test[:, 0], time = timeTensor_test, event_status = statusTensor_test)"
   ]
  },
  {
   "cell_type": "markdown",
   "id": "97cc16c9",
   "metadata": {},
   "source": [
    "The concordance for this model is 0.86. This is a fairly high score for model discernment."
   ]
  },
  {
   "cell_type": "markdown",
   "id": "fc3b943e",
   "metadata": {},
   "source": [
    "## Survival Curve and Prediction"
   ]
  },
  {
   "cell_type": "markdown",
   "id": "d9bd1a56",
   "metadata": {},
   "source": [
    "To plot a survival curve, we need to select a pattern of covariates. I will sample from the test set."
   ]
  },
  {
   "cell_type": "code",
   "execution_count": 42,
   "id": "d02e2ebb",
   "metadata": {},
   "outputs": [
    {
     "data": {
      "text/html": [
       "<div>\n",
       "<style scoped>\n",
       "    .dataframe tbody tr th:only-of-type {\n",
       "        vertical-align: middle;\n",
       "    }\n",
       "\n",
       "    .dataframe tbody tr th {\n",
       "        vertical-align: top;\n",
       "    }\n",
       "\n",
       "    .dataframe thead th {\n",
       "        text-align: right;\n",
       "    }\n",
       "</style>\n",
       "<table border=\"1\" class=\"dataframe\">\n",
       "  <thead>\n",
       "    <tr style=\"text-align: right;\">\n",
       "      <th></th>\n",
       "      <th>product_data_storage</th>\n",
       "      <th>csat_score</th>\n",
       "      <th>articles_viewed</th>\n",
       "      <th>smartphone_notifications_viewed</th>\n",
       "      <th>marketing_emails_clicked</th>\n",
       "      <th>social_media_ads_viewed</th>\n",
       "      <th>minutes_customer_support</th>\n",
       "      <th>months_active</th>\n",
       "      <th>churned</th>\n",
       "      <th>product_travel_expense_Free-Trial</th>\n",
       "      <th>...</th>\n",
       "      <th>us_region_Mountain</th>\n",
       "      <th>us_region_New England</th>\n",
       "      <th>us_region_Pacific</th>\n",
       "      <th>us_region_South Atlantic</th>\n",
       "      <th>us_region_West North Central</th>\n",
       "      <th>us_region_West South Central</th>\n",
       "      <th>company_size_10-50</th>\n",
       "      <th>company_size_100-250</th>\n",
       "      <th>company_size_50-100</th>\n",
       "      <th>company_size_self-employed</th>\n",
       "    </tr>\n",
       "  </thead>\n",
       "  <tbody>\n",
       "    <tr>\n",
       "      <th>446</th>\n",
       "      <td>3.199315</td>\n",
       "      <td>-0.99425</td>\n",
       "      <td>0.506248</td>\n",
       "      <td>1.067252</td>\n",
       "      <td>0.895531</td>\n",
       "      <td>-0.675838</td>\n",
       "      <td>-0.35684</td>\n",
       "      <td>3.0</td>\n",
       "      <td>0.0</td>\n",
       "      <td>1</td>\n",
       "      <td>...</td>\n",
       "      <td>0</td>\n",
       "      <td>1</td>\n",
       "      <td>0</td>\n",
       "      <td>0</td>\n",
       "      <td>0</td>\n",
       "      <td>0</td>\n",
       "      <td>0</td>\n",
       "      <td>0</td>\n",
       "      <td>1</td>\n",
       "      <td>0</td>\n",
       "    </tr>\n",
       "  </tbody>\n",
       "</table>\n",
       "<p>1 rows × 27 columns</p>\n",
       "</div>"
      ],
      "text/plain": [
       "     product_data_storage  csat_score  articles_viewed  \\\n",
       "446              3.199315    -0.99425         0.506248   \n",
       "\n",
       "     smartphone_notifications_viewed  marketing_emails_clicked  \\\n",
       "446                         1.067252                  0.895531   \n",
       "\n",
       "     social_media_ads_viewed  minutes_customer_support  months_active  \\\n",
       "446                -0.675838                  -0.35684            3.0   \n",
       "\n",
       "     churned  product_travel_expense_Free-Trial  ...  us_region_Mountain  \\\n",
       "446      0.0                                  1  ...                   0   \n",
       "\n",
       "     us_region_New England  us_region_Pacific  us_region_South Atlantic  \\\n",
       "446                      1                  0                         0   \n",
       "\n",
       "     us_region_West North Central  us_region_West South Central  \\\n",
       "446                             0                             0   \n",
       "\n",
       "     company_size_10-50  company_size_100-250  company_size_50-100  \\\n",
       "446                   0                     0                    1   \n",
       "\n",
       "     company_size_self-employed  \n",
       "446                           0  \n",
       "\n",
       "[1 rows x 27 columns]"
      ]
     },
     "execution_count": 42,
     "metadata": {},
     "output_type": "execute_result"
    }
   ],
   "source": [
    "example_pattern = data_test.sample(random_state=1)\n",
    "example_pattern.head()"
   ]
  },
  {
   "cell_type": "code",
   "execution_count": 43,
   "id": "14f9f9d5",
   "metadata": {},
   "outputs": [
    {
     "name": "stdout",
     "output_type": "stream",
     "text": [
      "torch.Size([1, 25])\n"
     ]
    }
   ],
   "source": [
    "# standardize\n",
    "X_example = np.stack([example_pattern[col].values for col in X], axis = 1)\n",
    "XTensor_example = torch.tensor(X_example, dtype = torch.float)\n",
    "print(XTensor_example.shape)"
   ]
  },
  {
   "cell_type": "code",
   "execution_count": 44,
   "id": "3f895800",
   "metadata": {},
   "outputs": [
    {
     "name": "stdout",
     "output_type": "stream",
     "text": [
      "tensor([[-2.7791,  2.3765]], grad_fn=<CatBackward0>)\n"
     ]
    }
   ],
   "source": [
    "risk_example = model(XTensor_example)\n",
    "print(risk_example)"
   ]
  },
  {
   "cell_type": "code",
   "execution_count": 59,
   "id": "a2b04d37",
   "metadata": {},
   "outputs": [
    {
     "data": {
      "text/plain": [
       "array([2.3765419], dtype=float32)"
      ]
     },
     "execution_count": 59,
     "metadata": {},
     "output_type": "execute_result"
    }
   ],
   "source": [
    "risk_example[:,  1].detach().numpy()"
   ]
  },
  {
   "cell_type": "code",
   "execution_count": 70,
   "id": "1936c811",
   "metadata": {},
   "outputs": [],
   "source": [
    "def weibull_survival(time, risk, p):\n",
    "    risk = risk.detach().numpy()\n",
    "    p = p.detach().numpy()\n",
    "    lamb = np.exp(risk)\n",
    "    survival = np.exp(-1*lamb*pow(time, p))\n",
    "    return survival"
   ]
  },
  {
   "cell_type": "code",
   "execution_count": 71,
   "id": "bcee9a14",
   "metadata": {},
   "outputs": [
    {
     "data": {
      "text/plain": [
       "array([0.42946637], dtype=float32)"
      ]
     },
     "execution_count": 71,
     "metadata": {},
     "output_type": "execute_result"
    }
   ],
   "source": [
    "weibull_survival(time = 3., risk = risk_example[:, 0], p = risk_example[:,  1])"
   ]
  },
  {
   "cell_type": "code",
   "execution_count": 54,
   "id": "b7b5d581",
   "metadata": {},
   "outputs": [
    {
     "data": {
      "text/plain": [
       "count    2000.000000\n",
       "mean        3.879500\n",
       "std         2.390782\n",
       "min         0.000000\n",
       "25%         2.000000\n",
       "50%         3.000000\n",
       "75%         5.000000\n",
       "max        12.000000\n",
       "Name: months_active, dtype: float64"
      ]
     },
     "execution_count": 54,
     "metadata": {},
     "output_type": "execute_result"
    }
   ],
   "source": [
    "dataset['months_active'].describe()"
   ]
  },
  {
   "cell_type": "code",
   "execution_count": 78,
   "id": "f896cb61",
   "metadata": {},
   "outputs": [
    {
     "data": {
      "image/png": "[encoded data removed]",
      "text/plain": [
       "<Figure size 640x480 with 1 Axes>"
      ]
     },
     "metadata": {},
     "output_type": "display_data"
    }
   ],
   "source": [
    "min_time = dataset['months_active'].min()\n",
    "max_time = dataset['months_active'].max()\n",
    "t = np.linspace(min_time, max_time, 100)\n",
    "plt.plot(t, weibull_survival(time = t, risk = risk_example[:, 0], p = risk_example[:,  1]), color='red')\n",
    "plt.xlabel('Time (months)') \n",
    "plt.ylabel('Survival Probability')\n",
    "plt.title('Survival Curve')\n",
    "plt.show()"
   ]
  }
 ],
 "metadata": {
  "kernelspec": {
   "display_name": "Python 3 (ipykernel)",
   "language": "python",
   "name": "python3"
  },
  "language_info": {
   "codemirror_mode": {
    "name": "ipython",
    "version": 3
   },
   "file_extension": ".py",
   "mimetype": "text/x-python",
   "name": "python",
   "nbconvert_exporter": "python",
   "pygments_lexer": "ipython3",
   "version": "3.10.9"
  }
 },
 "nbformat": 4,
 "nbformat_minor": 5
}
