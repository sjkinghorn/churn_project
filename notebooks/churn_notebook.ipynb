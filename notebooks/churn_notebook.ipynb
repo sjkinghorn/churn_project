{
 "cells": [
  {
   "cell_type": "markdown",
   "id": "8a19ef25",
   "metadata": {},
   "source": [
    "# Customer Churn"
   ]
  },
  {
   "cell_type": "markdown",
   "id": "7f4d824c",
   "metadata": {},
   "source": [
    "In this project, I use a custom Weibull survival neural network model to predict customer churn. This is a survival analysis because we are interested in the time in months until a customer no longer uses the services of a business. This is one of the examples I use in my thesis on parametric neural network models. "
   ]
  }
 ],
 "metadata": {
  "kernelspec": {
   "display_name": "Python 3 (ipykernel)",
   "language": "python",
   "name": "python3"
  },
  "language_info": {
   "codemirror_mode": {
    "name": "ipython",
    "version": 3
   },
   "file_extension": ".py",
   "mimetype": "text/x-python",
   "name": "python",
   "nbconvert_exporter": "python",
   "pygments_lexer": "ipython3",
   "version": "3.10.9"
  }
 },
 "nbformat": 4,
 "nbformat_minor": 5
}
